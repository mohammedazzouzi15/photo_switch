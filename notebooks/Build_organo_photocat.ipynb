{
 "cells": [
  {
   "cell_type": "code",
   "execution_count": 4,
   "metadata": {},
   "outputs": [],
   "source": [
    "import pandas as pd\n",
    "import numpy as np\n",
    "import matplotlib.pyplot as plt\n",
    "import itertools\n",
    "import copy\n",
    "import os\n",
    "\n",
    "# Cheminformatics stack\n",
    "import rdkit\n",
    "from rdkit import Chem\n",
    "from rdkit.Chem import rdDistGeom\n",
    "from rdkit.Chem import AllChem\n",
    "from rdkit.Chem import FragmentMatcher\n",
    "from rdkit.Chem import rdFMCS\n",
    "from glob import glob\n",
    "\n",
    "# For segfault\n",
    "import faulthandler\n",
    "import signal\n",
    "from subprocess import Popen, PIPE\n",
    "from rdkit.Chem import rdMMPA"
   ]
  },
  {
   "cell_type": "code",
   "execution_count": 5,
   "metadata": {},
   "outputs": [],
   "source": [
    "import stk\n",
    "\n",
    "\n",
    "def build_molecule_from_frag(\n",
    "    right_block_smiles, photochromic_block_smiles, catalytic_block_smiles,\n",
    "    inhibitor_block\n",
    "):\n",
    "        \"\"\"\n",
    "        This function takes the 3 fragments and builds a molecule using the STK library.\n",
    "        Parameters:\n",
    "        right_block: RDKit molecule, right block\n",
    "        left_block: RDKit molecule, left block\n",
    "        linker: RDKit molecule, linker\n",
    "\n",
    "        \"\"\"\n",
    "        right_block_smiles = right_block_smiles.replace(\"[*:2]\", \"Br\")\n",
    "        try:\n",
    "                bb_right = stk.BuildingBlock(\n",
    "                        smiles=right_block_smiles, functional_groups=[stk.BromoFactory()]\n",
    "                )\n",
    "        except:\n",
    "                print(\"Error with right block\")\n",
    "                print(right_block_smiles)\n",
    "                return None\n",
    "        try:\n",
    "                bb_photo = stk.BuildingBlock(\n",
    "                        smiles=photochromic_block_smiles, functional_groups=[stk.BromoFactory()]\n",
    "                )\n",
    "        except:\n",
    "                print(\"Error with photo block\")\n",
    "                print(photochromic_block_smiles)\n",
    "                return None\n",
    "        try:\n",
    "                catalytic_block_smiles = catalytic_block_smiles.replace(\"[*:1]\", \"Br\")\n",
    "                catalytic_block_smiles = catalytic_block_smiles.replace(\"[*:2]\", \"Br\")\n",
    "                bb_linker = stk.BuildingBlock(\n",
    "                smiles=catalytic_block_smiles, functional_groups=[stk.BromoFactory()]\n",
    "                )\n",
    "        except:\n",
    "                print(\"Error with linker block\")\n",
    "                print(catalytic_block_smiles)\n",
    "                return None\n",
    "        try: \n",
    "                inhibitor_block = inhibitor_block.replace(\"[*:2]\", \"Br\")\n",
    "                bb_inhibitor = stk.BuildingBlock(\n",
    "                        smiles=inhibitor_block, functional_groups=[stk.BromoFactory()]\n",
    "                )\n",
    "        except:\n",
    "                print(\"Error with inhibitor block\")\n",
    "                print(inhibitor_block)\n",
    "                return None\n",
    "        \n",
    "        try:\n",
    "                constructed_molecule = stk.ConstructedMolecule(\n",
    "                        stk.polymer.Linear(\n",
    "                        building_blocks=[bb_inhibitor,bb_photo, bb_linker, bb_right],\n",
    "                        repeating_unit=\"ABCD\",\n",
    "                        num_repeating_units=1,\n",
    "                        optimizer=stk.MCHammer(),\n",
    "                        )\n",
    "                )\n",
    "        except:\n",
    "                print(\"Error with constructed molecule\")\n",
    "                return None\n",
    "        return constructed_molecule"
   ]
  },
  {
   "cell_type": "code",
   "execution_count": 6,
   "metadata": {},
   "outputs": [
    {
     "name": "stderr",
     "output_type": "stream",
     "text": [
      "/tmp/ipykernel_62225/1185480010.py:10: SettingWithCopyWarning: \n",
      "A value is trying to be set on a copy of a slice from a DataFrame.\n",
      "Try using .loc[row_indexer,col_indexer] = value instead\n",
      "\n",
      "See the caveats in the documentation: https://pandas.pydata.org/pandas-docs/stable/user_guide/indexing.html#returning-a-view-versus-a-copy\n",
      "  df_linkers['smiles'] = df_linkers['linkers_smiles']\n"
     ]
    }
   ],
   "source": [
    "df_catalysts_right_block = pd.read_csv('data/catalyst_right_blocks.csv')\n",
    "df_catalysts_right_block['catalytic_block'] = df_catalysts_right_block['linkers_smiles'].apply(Chem.MolFromSmiles)\n",
    "df_catalysts_right_block['right_block'] = df_catalysts_right_block['smiles'].apply(Chem.MolFromSmiles)\n",
    "df_catalysts_right_block['catalytic_block_smiles'] = df_catalysts_right_block['linkers_smiles']\n",
    "df_catalysts_right_block['right_block_smiles'] = df_catalysts_right_block['smiles']\n",
    "df_catalysts_right_block['number_of_atoms_right_block'] = df_catalysts_right_block['right_block'].apply(lambda x: x.GetNumAtoms())\n",
    "df_catalysts_right_block['number_of_atoms_catalytic_block'] = df_catalysts_right_block['catalytic_block'].apply(lambda x: x.GetNumAtoms())\n",
    "df_catalysts_right_block_unique = df_catalysts_right_block.drop_duplicates(subset=['smiles'])\n",
    "df_linkers = df_catalysts_right_block[['linkers_smiles','catalytic_block']]\n",
    "df_linkers['smiles'] = df_linkers['linkers_smiles'] \n",
    "df_catalysts_linker_unique = df_linkers.drop_duplicates(subset=['smiles'])\n",
    "df_catalysts_right_block_unique = df_catalysts_right_block_unique[['smiles']]\n",
    "df_catalysts_right_block_unique.to_csv('data/catalyst_right_blocks_unique.csv', index=False)\n",
    "df_catalysts_linker_unique.to_csv('data/catalyst_linkers_unique.csv', index=False)"
   ]
  },
  {
   "cell_type": "code",
   "execution_count": 7,
   "metadata": {},
   "outputs": [
    {
     "data": {
      "text/html": [
       "<div>\n",
       "<style scoped>\n",
       "    .dataframe tbody tr th:only-of-type {\n",
       "        vertical-align: middle;\n",
       "    }\n",
       "\n",
       "    .dataframe tbody tr th {\n",
       "        vertical-align: top;\n",
       "    }\n",
       "\n",
       "    .dataframe thead th {\n",
       "        text-align: right;\n",
       "    }\n",
       "</style>\n",
       "<table border=\"1\" class=\"dataframe\">\n",
       "  <thead>\n",
       "    <tr style=\"text-align: right;\">\n",
       "      <th></th>\n",
       "      <th>smiles</th>\n",
       "    </tr>\n",
       "  </thead>\n",
       "  <tbody>\n",
       "    <tr>\n",
       "      <th>0</th>\n",
       "      <td>C#CC[*:2]</td>\n",
       "    </tr>\n",
       "    <tr>\n",
       "      <th>2</th>\n",
       "      <td>C#C[*:2]</td>\n",
       "    </tr>\n",
       "    <tr>\n",
       "      <th>3</th>\n",
       "      <td>c1ccc([*:2])cc1</td>\n",
       "    </tr>\n",
       "    <tr>\n",
       "      <th>5</th>\n",
       "      <td>C[Si](C)(C)[*:2]</td>\n",
       "    </tr>\n",
       "    <tr>\n",
       "      <th>11</th>\n",
       "      <td>COC(=O)[C@H](C)[*:2]</td>\n",
       "    </tr>\n",
       "    <tr>\n",
       "      <th>...</th>\n",
       "      <td>...</td>\n",
       "    </tr>\n",
       "    <tr>\n",
       "      <th>10876</th>\n",
       "      <td>c1ccc2c(c1)cc([*:2])c1ccccc12</td>\n",
       "    </tr>\n",
       "    <tr>\n",
       "      <th>10896</th>\n",
       "      <td>C(=Nc1ccccc1[*:2])c1c2ccccc2cc2ccccc12</td>\n",
       "    </tr>\n",
       "    <tr>\n",
       "      <th>10899</th>\n",
       "      <td>Clc1ccc(C=Nc2ccccc2[*:2])cc1</td>\n",
       "    </tr>\n",
       "    <tr>\n",
       "      <th>10901</th>\n",
       "      <td>S=C(Nc1ccccc1)Nc1ccccc1[*:2]</td>\n",
       "    </tr>\n",
       "    <tr>\n",
       "      <th>10905</th>\n",
       "      <td>c1nc([*:2])n[nH]1</td>\n",
       "    </tr>\n",
       "  </tbody>\n",
       "</table>\n",
       "<p>1045 rows × 1 columns</p>\n",
       "</div>"
      ],
      "text/plain": [
       "                                       smiles\n",
       "0                                   C#CC[*:2]\n",
       "2                                    C#C[*:2]\n",
       "3                             c1ccc([*:2])cc1\n",
       "5                            C[Si](C)(C)[*:2]\n",
       "11                       COC(=O)[C@H](C)[*:2]\n",
       "...                                       ...\n",
       "10876           c1ccc2c(c1)cc([*:2])c1ccccc12\n",
       "10896  C(=Nc1ccccc1[*:2])c1c2ccccc2cc2ccccc12\n",
       "10899            Clc1ccc(C=Nc2ccccc2[*:2])cc1\n",
       "10901            S=C(Nc1ccccc1)Nc1ccccc1[*:2]\n",
       "10905                       c1nc([*:2])n[nH]1\n",
       "\n",
       "[1045 rows x 1 columns]"
      ]
     },
     "execution_count": 7,
     "metadata": {},
     "output_type": "execute_result"
    }
   ],
   "source": [
    "df_catalysts_right_block_unique"
   ]
  },
  {
   "cell_type": "code",
   "execution_count": 8,
   "metadata": {},
   "outputs": [
    {
     "name": "stdout",
     "output_type": "stream",
     "text": [
      "number of photochromic blocks: 411\n",
      "number of block on the right of the catalyst: 1045\n",
      "number of catalysts units: 7980\n",
      "size of the dataset: 3.43e+09\n"
     ]
    }
   ],
   "source": [
    "df_linker_filtered = pd.read_csv('data/2_murcko_azo_photo_cores_Br_filtered.txt',delimiter='\\t')\n",
    "df_linker_filtered = df_linker_filtered.drop_duplicates()\n",
    "df_linker_filtered['photochromic_block'] = df_linker_filtered['smiles'].apply(Chem.MolFromSmiles)\n",
    "df_linker_filtered['photochromic_block_smiles'] = df_linker_filtered['smiles']\n",
    "df_linker_filtered.to_csv('data/2_murcko_azo_photo_cores_Br_filtered.csv', index=False)\n",
    "print('number of photochromic blocks:', len(df_linker_filtered))\n",
    "print('number of block on the right of the catalyst:', len(set(df_catalysts_right_block_unique['smiles'])))\n",
    "print('number of catalysts units:', len(set(df_catalysts_linker_unique['smiles'])))\n",
    "print(f\"size of the dataset: {len(df_linker_filtered)*len(set(df_catalysts_right_block_unique['smiles']))*len(set(df_catalysts_linker_unique['smiles'])):.2e}\")"
   ]
  },
  {
   "cell_type": "code",
   "execution_count": 9,
   "metadata": {},
   "outputs": [
    {
     "name": "stdout",
     "output_type": "stream",
     "text": [
      "number of inhibitors: 21\n"
     ]
    }
   ],
   "source": [
    "df_inhibitor = pd.read_csv('data/inhibitor_right_blocks.csv')\n",
    "df_inhibitor['inhibitor_block'] = df_inhibitor['smiles'].apply(Chem.MolFromSmiles)\n",
    "df_inhibitor['inhibitor_block_smiles'] = df_inhibitor['smiles']\n",
    "print('number of inhibitors:', len(df_inhibitor))\n",
    "\n"
   ]
  },
  {
   "cell_type": "code",
   "execution_count": 10,
   "metadata": {},
   "outputs": [
    {
     "name": "stderr",
     "output_type": "stream",
     "text": [
      "/media/mohammed/Work/anaconda3/envs/stk_search/lib/python3.8/site-packages/stk/utilities/utilities.py:455: RuntimeWarning: invalid value encountered in divide\n",
      "  return np.divide(vector, np.linalg.norm(vector))\n"
     ]
    },
    {
     "name": "stdout",
     "output_type": "stream",
     "text": [
      "Error with constructed molecule\n",
      "Error with constructed molecule\n",
      "Error with constructed molecule\n",
      "Error with constructed molecule\n",
      "Error with constructed molecule\n",
      "Error with constructed molecule\n",
      "Error with constructed molecule\n",
      "Error with constructed molecule\n",
      "Error with constructed molecule\n",
      "Error with linker block\n",
      "COc1ccc2nccc([C@@H](NC(=S)Nc3cc(C(F)(F)F)cc(C(F)(F)Br)c3)[C@H]3C[C@H]4CC[N@@]3C[C@H]4Br)c2c1\n",
      "Error with linker block\n",
      "C=C[C@H]1C[N@@]2CC[C@H]1C[C@@H]2[C@H](NC(=S)Nc1cc(C(F)(F)Br)cc(Br)c1)c1ccnc2ccc(OC)cc12\n",
      "Error with constructed molecule\n",
      "Error with constructed molecule\n",
      "Error with constructed molecule\n",
      "Error with constructed molecule\n",
      "Error with linker block\n",
      "C=C[C@H]1C[N@@]2CC[C@H]1C[C@H]2[C@@H](NC(=O)NS(=O)(=O)Br)Br\n",
      "Error with constructed molecule\n",
      "Error with constructed molecule\n",
      "Error with constructed molecule\n",
      "number of constructed molecules: 81\n"
     ]
    }
   ],
   "source": [
    "constructed_molecule_list = []\n",
    "number_of_molecules = 100\n",
    "rb_list, pb_list, cb_list,ib_list= [], [], [], []\n",
    "for i in range(number_of_molecules):\n",
    "    rb = df_catalysts_right_block.sample(3,random_state= i)['right_block_smiles'].values[0]\n",
    "    pb = df_linker_filtered.sample(3,random_state= i)['photochromic_block_smiles'].values[0]\n",
    "    cb = df_catalysts_right_block.sample(3,random_state= i)['catalytic_block_smiles'].values[0]\n",
    "    ib = df_inhibitor.sample(3,random_state= i)['inhibitor_block_smiles'].values[0]\n",
    "    constructed_molecule = build_molecule_from_frag(rb, pb, cb,ib)\n",
    "    if constructed_molecule is not None:\n",
    "        rb_list.append(rb)\n",
    "        pb_list.append(pb)\n",
    "        cb_list.append(cb)\n",
    "        ib_list.append(ib)\n",
    "        constructed_molecule_list.append(constructed_molecule.to_rdkit_mol())\n",
    "print('number of constructed molecules:', len(constructed_molecule_list))"
   ]
  },
  {
   "cell_type": "code",
   "execution_count": 11,
   "metadata": {},
   "outputs": [],
   "source": [
    "constructed_molecule_list_smiles = [Chem.MolToSmiles(x) for x in constructed_molecule_list]\n",
    "pd_constructed_molecules = pd.DataFrame((constructed_molecule_list_smiles,rb_list,pb_list,cb_list,ib_list)).T\n",
    "pd_constructed_molecules.columns=['smiles','right_block','photo_block','catalytic_block','inhibitor_block']\n",
    "pd_constructed_molecules.head()\n",
    "pd_constructed_molecules.to_csv('constructed_organo_photocat.csv',index=False)"
   ]
  },
  {
   "cell_type": "code",
   "execution_count": null,
   "metadata": {},
   "outputs": [],
   "source": []
  }
 ],
 "metadata": {
  "kernelspec": {
   "display_name": "Geom3D",
   "language": "python",
   "name": "python3"
  },
  "language_info": {
   "codemirror_mode": {
    "name": "ipython",
    "version": 3
   },
   "file_extension": ".py",
   "mimetype": "text/x-python",
   "name": "python",
   "nbconvert_exporter": "python",
   "pygments_lexer": "ipython3",
   "version": "3.8.19"
  }
 },
 "nbformat": 4,
 "nbformat_minor": 2
}

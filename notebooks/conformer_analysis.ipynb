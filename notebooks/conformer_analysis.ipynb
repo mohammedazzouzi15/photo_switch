{
 "cells": [
  {
   "cell_type": "code",
   "execution_count": 71,
   "metadata": {},
   "outputs": [],
   "source": [
    "from morfeus.conformer import ConformerEnsemble\n",
    "from pathlib import Path\n",
    "import stk\n",
    "import pymongo\n",
    "from morfeus import BuriedVolume, read_xyz\n",
    "import os\n",
    "from photocat_database.calculators.Optimise_ON import ETKDG_constaint\n",
    "import itertools\n",
    "import numpy as np\n",
    "import matplotlib.pyplot as plt\n",
    "%matplotlib inline"
   ]
  },
  {
   "cell_type": "code",
   "execution_count": 72,
   "metadata": {},
   "outputs": [
    {
     "name": "stdout",
     "output_type": "stream",
     "text": [
      "True\n",
      "crest_path data/constructed_photocat_Z/Crest/UYBPBNGMIRHRMW-KTMFPKCZSA-N/crest_conformers.xyz\n"
     ]
    },
    {
     "data": {
      "text/plain": [
       "ConformerEnsemble(157 conformers)"
      ]
     },
     "execution_count": 72,
     "metadata": {},
     "output_type": "execute_result"
    }
   ],
   "source": [
    "\n",
    "client = \"mongodb://localhost:27017/\"\n",
    "client = pymongo.MongoClient(client)\n",
    "inchikey_photo_cat = \"UYBPBNGMIRHRMW-KTMFPKCZSA-N\"\n",
    "db_mol_list = [\"constructed_photocat_Z\",\"constructed_photocat_E\",\"constructed_photocat_Z_ON\",\"constructed_photocat_E_ON\"]\n",
    "db_mol= \"constructed_photocat_Z\"\n",
    "db_constructed = stk.ConstructedMoleculeMongoDb(\n",
    "    client,\n",
    "    database=db_mol,\n",
    ")\n",
    "constructed_molecule = db_constructed.get(\n",
    "    {\"InChIKey\": inchikey_photo_cat}\n",
    ")\n",
    "collection = client[db_mol]['crest']\n",
    "data_crest = collection.find_one({\"InChIKey\":inchikey_photo_cat})\n",
    "data_crest['crest_conformers']\n",
    "original_path = \"/media/mohammed/Work/Work/photo_switch/src/photocat_database\"\n",
    "crest_path = Path(original_path) / data_crest['crest_conformers']\n",
    "print(crest_path.exists())\n",
    "print('crest_path',data_crest['crest_conformers'])\n",
    "ce = ConformerEnsemble.from_crest(crest_path.parent)\n",
    "ce.sort()"
   ]
  },
  {
   "cell_type": "code",
   "execution_count": 89,
   "metadata": {},
   "outputs": [],
   "source": [
    "calculator = ETKDG_constaint()\n",
    "oxygen_id, hydrogen_id = (\n",
    "    calculator.get_atom_position_to_induce_constain_for_3bb(\n",
    "        constructed_molecule\n",
    "    )\n",
    ")\n",
    "for conformer in ce:\n",
    "    elements, coordinates = ce.elements, conformer.coordinates\n",
    "    bv = BuriedVolume(elements, coordinates, hydrogen_id[0]+1)\n",
    "    conformer.properties['buried_volume_H1'] = bv.fraction_buried_volume\n",
    "    bv = BuriedVolume(elements, coordinates, hydrogen_id[1]+1)\n",
    "    conformer.properties['buried_volume_H2'] = bv.fraction_buried_volume\n"
   ]
  },
  {
   "cell_type": "code",
   "execution_count": 90,
   "metadata": {},
   "outputs": [
    {
     "data": {
      "text/plain": [
       "(array([ 8.,  2.,  3., 41., 36.,  7., 11.,  7.,  2.,  1.,  1.,  0.,  0.,\n",
       "         0.,  3.,  0.,  0.,  3.,  0.,  1.,  0.,  0.,  2.,  5.,  6.,  0.,\n",
       "         1.,  4.,  0.,  0.,  1.,  0.,  1.,  1.,  0.,  0.,  0.,  1.,  0.,\n",
       "         1.,  1.,  3.,  1.,  1.,  0.,  0.,  0.,  1.,  0.,  1.]),\n",
       " array([0.43314387, 0.43934973, 0.44555558, 0.45176144, 0.45796729,\n",
       "        0.46417315, 0.47037901, 0.47658486, 0.48279072, 0.48899658,\n",
       "        0.49520243, 0.50140829, 0.50761414, 0.51382   , 0.52002586,\n",
       "        0.52623171, 0.53243757, 0.53864343, 0.54484928, 0.55105514,\n",
       "        0.557261  , 0.56346685, 0.56967271, 0.57587856, 0.58208442,\n",
       "        0.58829028, 0.59449613, 0.60070199, 0.60690785, 0.6131137 ,\n",
       "        0.61931956, 0.62552541, 0.63173127, 0.63793713, 0.64414298,\n",
       "        0.65034884, 0.6565547 , 0.66276055, 0.66896641, 0.67517227,\n",
       "        0.68137812, 0.68758398, 0.69378983, 0.69999569, 0.70620155,\n",
       "        0.7124074 , 0.71861326, 0.72481912, 0.73102497, 0.73723083,\n",
       "        0.74343668]),\n",
       " <BarContainer object of 50 artists>)"
      ]
     },
     "execution_count": 90,
     "metadata": {},
     "output_type": "execute_result"
    },
    {
     "data": {
      "image/png": "[encoded data removed]",
      "text/plain": [
       "<Figure size 640x480 with 1 Axes>"
      ]
     },
     "metadata": {},
     "output_type": "display_data"
    }
   ],
   "source": [
    "ce.boltzmann_statistic(\"buried_volume_H1\") , ce.boltzmann_statistic(\"buried_volume_H2\")\n",
    "\n",
    "fig, ax = plt.subplots()    \n",
    "ax.hist(ce.get_properties()[\"buried_volume_H1\"], bins=50, alpha=0.5, label='H1')\n",
    "ax.hist(ce.get_properties()[\"buried_volume_H2\"], bins=50, alpha=0.5, label='H2')\n"
   ]
  },
  {
   "cell_type": "code",
   "execution_count": 57,
   "metadata": {},
   "outputs": [
    {
     "ename": "NameError",
     "evalue": "name 'inchikey_photo_cat_E' is not defined",
     "output_type": "error",
     "traceback": [
      "\u001b[0;31m---------------------------------------------------------------------------\u001b[0m",
      "\u001b[0;31mNameError\u001b[0m                                 Traceback (most recent call last)",
      "Cell \u001b[0;32mIn[57], line 10\u001b[0m\n\u001b[1;32m      4\u001b[0m db_mol \u001b[38;5;241m=\u001b[39m \u001b[38;5;124m\"\u001b[39m\u001b[38;5;124mconstructed_photocat_E\u001b[39m\u001b[38;5;124m\"\u001b[39m\n\u001b[1;32m      5\u001b[0m db_polymer \u001b[38;5;241m=\u001b[39m stk\u001b[38;5;241m.\u001b[39mConstructedMoleculeMongoDb(\n\u001b[1;32m      6\u001b[0m     client,\n\u001b[1;32m      7\u001b[0m     database\u001b[38;5;241m=\u001b[39mdb_mol,\n\u001b[1;32m      8\u001b[0m )\n\u001b[1;32m      9\u001b[0m constructed_molecule_E \u001b[38;5;241m=\u001b[39m db_polymer\u001b[38;5;241m.\u001b[39mget(\n\u001b[0;32m---> 10\u001b[0m     {\u001b[38;5;124m\"\u001b[39m\u001b[38;5;124mInChIKey\u001b[39m\u001b[38;5;124m\"\u001b[39m: \u001b[43minchikey_photo_cat_E\u001b[49m}\n\u001b[1;32m     11\u001b[0m )\n\u001b[1;32m     12\u001b[0m mol \u001b[38;5;241m=\u001b[39m constructed_molecule_E\u001b[38;5;241m.\u001b[39mto_rdkit_mol()\n\u001b[1;32m     13\u001b[0m display(mol)\n",
      "\u001b[0;31mNameError\u001b[0m: name 'inchikey_photo_cat_E' is not defined"
     ]
    }
   ],
   "source": [
    "from morfeus import BuriedVolume, read_xyz\n",
    "import os\n",
    "from photocat_database.calculators.Optimise_ON import ETKDG_constaint\n",
    "db_mol = \"constructed_photocat_E\"\n",
    "db_polymer = stk.ConstructedMoleculeMongoDb(\n",
    "    client,\n",
    "    database=db_mol,\n",
    ")\n",
    "constructed_molecule_E = db_polymer.get(\n",
    "    {\"InChIKey\": inchikey_photo_cat_E}\n",
    ")\n",
    "mol = constructed_molecule_E.to_rdkit_mol()\n",
    "display(mol)\n",
    "xyz_file = client.constructed_photocat_E.XTB_opt.find_one({\"InChIKey\": inchikey_photo_cat_E})['cal_folder']+ \"/xtbopt.xyz\"\n",
    "#constructed_molecule_E.with_structure_from_file(xyz_file)\n",
    "constructed_molecule_E.write(\"constructed_photocat_E.xyz\")\n",
    "elements, coordinates = read_xyz(\"constructed_photocat_E.xyz\")\n",
    "calculator = ETKDG_constaint()\n",
    "oxygen_id, hydrogen_id = calculator.get_atom_position_to_induce_constain_for_3bb(constructed_molecule_E)\n",
    "bv = BuriedVolume(elements, coordinates, hydrogen_id[0]+1)\n",
    "print(bv.fraction_buried_volume)\n",
    "bv.print_report()\n",
    "bv = BuriedVolume(elements, coordinates, hydrogen_id[1]+1)\n",
    "print(bv.fraction_buried_volume)\n",
    "bv.print_report()\n",
    "import itertools\n",
    "import numpy as np\n",
    "\n",
    "distances = [ np.linalg.norm(coordinates[oxygen_i] - coordinates[hydrogen_i]) for oxygen_i, hydrogen_i in itertools.product(oxygen_id, hydrogen_id)]\n",
    "print(distances)"
   ]
  }
 ],
 "metadata": {
  "kernelspec": {
   "display_name": "stk_search",
   "language": "python",
   "name": "python3"
  },
  "language_info": {
   "codemirror_mode": {
    "name": "ipython",
    "version": 3
   },
   "file_extension": ".py",
   "mimetype": "text/x-python",
   "name": "python",
   "nbconvert_exporter": "python",
   "pygments_lexer": "ipython3",
   "version": "3.8.19"
  }
 },
 "nbformat": 4,
 "nbformat_minor": 2
}
